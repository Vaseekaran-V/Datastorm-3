{
 "cells": [
  {
   "cell_type": "markdown",
   "id": "pediatric-immigration",
   "metadata": {},
   "source": [
    "## Importing the needed libraries"
   ]
  },
  {
   "cell_type": "code",
   "execution_count": 2,
   "id": "sudden-candy",
   "metadata": {},
   "outputs": [],
   "source": [
    "import pandas as pd\n",
    "import numpy as np\n",
    "import matplotlib.pyplot as plt\n",
    "%matplotlib inline\n",
    "import seaborn as sns\n",
    "from sklearn.model_selection import train_test_split\n",
    "from sklearn.metrics import accuracy_score\n",
    "from sklearn.metrics import confusion_matrix\n",
    "from sklearn.model_selection import cross_val_score\n",
    "from sklearn.preprocessing import OneHotEncoder\n",
    "from sklearn.preprocessing import LabelEncoder\n",
    "from sklearn.pipeline import Pipeline\n",
    "from sklearn import preprocessing\n",
    "from sklearn.compose import ColumnTransformer\n",
    "from sklearn.preprocessing import StandardScaler #you can use minmax scaler too\n",
    "from sklearn.model_selection import cross_val_score\n",
    "#Import other necessary model libraries, for this example, using Logistic Regression"
   ]
  },
  {
   "cell_type": "markdown",
   "id": "executive-equation",
   "metadata": {},
   "source": [
    "## Helper functions"
   ]
  },
  {
   "cell_type": "code",
   "execution_count": 3,
   "id": "included-values",
   "metadata": {},
   "outputs": [],
   "source": [
    "def get_quan_cat_columns(dataframe):\n",
    "    '''\n",
    "    Used to extract and separate the categorical and quantitative columns in the datafram\n",
    "    Input -> a dataframe with named columns\n",
    "    Output -> 2 outputs: a list of quantitative columns and a list of categorical columns\n",
    "    '''\n",
    "    quan_cols = []\n",
    "    cat_cols = []\n",
    "    \n",
    "    for column in dataframe.columns:\n",
    "        if(dataframe[column].dtype == 'float' or dataframe[column].dtype == 'int'):\n",
    "            quan_cols.append(column)\n",
    "        elif (dataframe[column].dtype == 'object'):\n",
    "            cat_cols.append(column)\n",
    "            \n",
    "    return quan_cols, cat_cols"
   ]
  },
  {
   "cell_type": "code",
   "execution_count": 4,
   "id": "official-tanzania",
   "metadata": {},
   "outputs": [],
   "source": [
    "def cat_fill_na(dataframe, cols, fill_string = 'Unknown'):\n",
    "    '''\n",
    "    Used to fill the missing values in categorical columns with a specified string\n",
    "    Input -> dataframe, columns of categorical data, the string to be filled\n",
    "    Output -> no return output, the missing categorical data would be filled\n",
    "    '''\n",
    "    for column in cols:\n",
    "        dataframe[column].fillna(value = fill_string, inplace = True)"
   ]
  },
  {
   "cell_type": "code",
   "execution_count": 5,
   "id": "improving-appeal",
   "metadata": {},
   "outputs": [],
   "source": [
    "def quan_fill_na(dataframe, cols, fill_value = 'mean'):\n",
    "    '''\n",
    "    Used to fill the missing values in the quantitative columns\n",
    "    Input -> dataframe, columns of quantitative data and the fill type\n",
    "        fill type -> 'mean', 'median', or a number\n",
    "    Output -> no return output, the missing quantitative datas would be filled\n",
    "    '''\n",
    "    for column in cols:\n",
    "        if fill_value == 'mean':\n",
    "            dataframe[column].fillna(value = np.mean(dataframe[column]), inplace = True)\n",
    "        elif fill_value == 'median':\n",
    "            dataframe[column].fillna(value = np.median(dataframe[column]), inplace = True)\n",
    "        else:\n",
    "            dataframe[column].fillna(value = fill_value, inplace = True)"
   ]
  },
  {
   "cell_type": "markdown",
   "id": "closing-image",
   "metadata": {},
   "source": [
    "## Importing the training data"
   ]
  },
  {
   "cell_type": "code",
   "execution_count": null,
   "id": "appropriate-statistics",
   "metadata": {},
   "outputs": [],
   "source": [
    "train_data = pd.read_csv(\"data/train_dataset.csv\")"
   ]
  },
  {
   "cell_type": "markdown",
   "id": "wicked-humanitarian",
   "metadata": {},
   "source": [
    "## Check missing values"
   ]
  },
  {
   "cell_type": "markdown",
   "id": "parliamentary-wellington",
   "metadata": {},
   "source": [
    "## Divide data to train and test"
   ]
  },
  {
   "cell_type": "markdown",
   "id": "sophisticated-induction",
   "metadata": {},
   "source": [
    "## Scaling pipelines"
   ]
  },
  {
   "cell_type": "markdown",
   "id": "warming-surgeon",
   "metadata": {},
   "source": [
    "# Submission dataset"
   ]
  },
  {
   "cell_type": "code",
   "execution_count": null,
   "id": "specialized-potential",
   "metadata": {},
   "outputs": [],
   "source": []
  }
 ],
 "metadata": {
  "kernelspec": {
   "display_name": "Python 3",
   "language": "python",
   "name": "python3"
  },
  "language_info": {
   "codemirror_mode": {
    "name": "ipython",
    "version": 3
   },
   "file_extension": ".py",
   "mimetype": "text/x-python",
   "name": "python",
   "nbconvert_exporter": "python",
   "pygments_lexer": "ipython3",
   "version": "3.7.10"
  }
 },
 "nbformat": 4,
 "nbformat_minor": 5
}
