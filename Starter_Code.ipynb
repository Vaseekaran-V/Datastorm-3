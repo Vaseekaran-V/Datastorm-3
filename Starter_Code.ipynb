{
  "cells": [
    {
      "cell_type": "markdown",
      "id": "pediatric-immigration",
      "metadata": {
        "id": "pediatric-immigration"
      },
      "source": [
        "## Importing the needed libraries"
      ]
    },
    {
      "cell_type": "code",
      "execution_count": null,
      "id": "sudden-candy",
      "metadata": {
        "id": "sudden-candy"
      },
      "outputs": [],
      "source": [
        "import pandas as pd\n",
        "import numpy as np\n",
        "import matplotlib.pyplot as plt\n",
        "%matplotlib inline\n",
        "import seaborn as sns\n",
        "from sklearn.model_selection import train_test_split\n",
        "from sklearn.metrics import accuracy_score\n",
        "from sklearn.metrics import confusion_matrix\n",
        "from sklearn.model_selection import cross_val_score\n",
        "from sklearn.preprocessing import OneHotEncoder\n",
        "from sklearn.preprocessing import LabelEncoder\n",
        "from sklearn.pipeline import Pipeline\n",
        "from sklearn import preprocessing\n",
        "from sklearn.compose import ColumnTransformer\n",
        "from sklearn.preprocessing import StandardScaler #you can use minmax scaler too\n",
        "from sklearn.model_selection import cross_val_score\n",
        "#Import other necessary model libraries, for this example, using Logistic Regression"
      ]
    },
    {
      "cell_type": "markdown",
      "id": "executive-equation",
      "metadata": {
        "id": "executive-equation"
      },
      "source": [
        "## Helper functions"
      ]
    },
    {
      "cell_type": "code",
      "execution_count": null,
      "id": "included-values",
      "metadata": {
        "id": "included-values"
      },
      "outputs": [],
      "source": [
        "def get_quan_cat_columns(dataframe):\n",
        "    '''\n",
        "    Used to extract and separate the categorical and quantitative columns in the datafram\n",
        "    Input -> a dataframe with named columns\n",
        "    Output -> 2 outputs: a list of quantitative columns and a list of categorical columns\n",
        "    '''\n",
        "    quan_cols = []\n",
        "    cat_cols = []\n",
        "    \n",
        "    for column in dataframe.columns:\n",
        "        if(dataframe[column].dtype == 'float' or dataframe[column].dtype == 'int'):\n",
        "            quan_cols.append(column)\n",
        "        elif (dataframe[column].dtype == 'object'):\n",
        "            cat_cols.append(column)\n",
        "            \n",
        "    return quan_cols, cat_cols"
      ]
    },
    {
      "cell_type": "code",
      "execution_count": null,
      "id": "official-tanzania",
      "metadata": {
        "id": "official-tanzania"
      },
      "outputs": [],
      "source": [
        "def cat_fill_na(dataframe, cols, fill_string = 'Unknown'):\n",
        "    '''\n",
        "    Used to fill the missing values in categorical columns with a specified string\n",
        "    Input -> dataframe, columns of categorical data, the string to be filled\n",
        "    Output -> no return output, the missing categorical data would be filled\n",
        "    '''\n",
        "    for column in cols:\n",
        "        dataframe[column].fillna(value = fill_string, inplace = True)"
      ]
    },
    {
      "cell_type": "code",
      "execution_count": null,
      "id": "improving-appeal",
      "metadata": {
        "id": "improving-appeal"
      },
      "outputs": [],
      "source": [
        "def quan_fill_na(dataframe, cols, fill_value = 'mean'):\n",
        "    '''\n",
        "    Used to fill the missing values in the quantitative columns\n",
        "    Input -> dataframe, columns of quantitative data and the fill type\n",
        "        fill type -> 'mean', 'median', or a number\n",
        "    Output -> no return output, the missing quantitative datas would be filled\n",
        "    '''\n",
        "    for column in cols:\n",
        "        if fill_value == 'mean':\n",
        "            dataframe[column].fillna(value = np.mean(dataframe[column]), inplace = True)\n",
        "        elif fill_value == 'median':\n",
        "            dataframe[column].fillna(value = np.median(dataframe[column]), inplace = True)\n",
        "        else:\n",
        "            dataframe[column].fillna(value = fill_value, inplace = True)"
      ]
    },
    {
      "cell_type": "markdown",
      "id": "identified-assistant",
      "metadata": {
        "id": "identified-assistant"
      },
      "source": [
        "## Importing the training data"
      ]
    },
    {
      "cell_type": "code",
      "execution_count": null,
      "id": "australian-stephen",
      "metadata": {
        "id": "australian-stephen"
      },
      "outputs": [],
      "source": [
        "train_data = pd.read_csv(\"data/train_dataset.csv\")"
      ]
    },
    {
      "cell_type": "markdown",
      "id": "headed-membership",
      "metadata": {
        "id": "headed-membership"
      },
      "source": [
        "### Label encoding"
      ]
    },
    {
      "cell_type": "code",
      "execution_count": null,
      "id": "forward-proceeding",
      "metadata": {
        "id": "forward-proceeding"
      },
      "outputs": [],
      "source": [
        ""
      ]
    },
    {
      "cell_type": "markdown",
      "id": "through-essence",
      "metadata": {
        "id": "through-essence"
      },
      "source": [
        "## Check missing values"
      ]
    },
    {
      "cell_type": "code",
      "execution_count": null,
      "id": "selective-ecology",
      "metadata": {
        "id": "selective-ecology"
      },
      "outputs": [],
      "source": [
        "train_data.info()"
      ]
    },
    {
      "cell_type": "markdown",
      "id": "entire-carrier",
      "metadata": {
        "id": "entire-carrier"
      },
      "source": [
        "## Divide data to train and test"
      ]
    },
    {
      "cell_type": "markdown",
      "id": "treated-african",
      "metadata": {
        "id": "treated-african"
      },
      "source": [
        "## Scaling pipelines"
      ]
    },
    {
      "cell_type": "markdown",
      "id": "lyric-michigan",
      "metadata": {
        "id": "lyric-michigan"
      },
      "source": [
        "# Submission dataset"
      ]
    },
    {
      "cell_type": "code",
      "execution_count": null,
      "id": "seventh-killer",
      "metadata": {
        "id": "seventh-killer"
      },
      "outputs": [],
      "source": [
        ""
      ]
    }
  ],
  "metadata": {
    "kernelspec": {
      "display_name": "Python 3",
      "language": "python",
      "name": "python3"
    },
    "language_info": {
      "codemirror_mode": {
        "name": "ipython",
        "version": 3
      },
      "file_extension": ".py",
      "mimetype": "text/x-python",
      "name": "python",
      "nbconvert_exporter": "python",
      "pygments_lexer": "ipython3",
      "version": "3.7.10"
    },
    "colab": {
      "name": "Starter_Code.ipynb",
      "provenance": []
    }
  },
  "nbformat": 4,
  "nbformat_minor": 5
}