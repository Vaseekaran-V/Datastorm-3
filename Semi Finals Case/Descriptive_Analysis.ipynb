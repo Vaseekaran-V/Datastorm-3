{
 "cells": [
  {
   "cell_type": "code",
   "execution_count": 1,
   "id": "af9aa7d3",
   "metadata": {},
   "outputs": [],
   "source": [
    "import pandas as pd\n",
    "import numpy as np\n",
    "import matplotlib.pyplot as plt\n",
    "%matplotlib inline\n",
    "import seaborn as sns"
   ]
  },
  {
   "cell_type": "code",
   "execution_count": 2,
   "id": "aef49782",
   "metadata": {},
   "outputs": [],
   "source": [
    "train_data = pd.read_csv(\"./data/train_data_modified_new.csv\")\n",
    "train_data['OnPromotion']=train_data['OnPromotion'].astype(int)"
   ]
  },
  {
   "cell_type": "code",
   "execution_count": 3,
   "id": "816206e7",
   "metadata": {},
   "outputs": [
    {
     "data": {
      "text/plain": [
       "CategoryCode        object\n",
       "ItemCode             int64\n",
       "DateID              object\n",
       "DailySales           int64\n",
       "Week                object\n",
       "WeekID               int64\n",
       "DiscountValue      float64\n",
       "DiscountedPrice    float64\n",
       "SellingPrice       float64\n",
       "OnPromotion          int32\n",
       "dtype: object"
      ]
     },
     "metadata": {},
     "output_type": "display_data"
    }
   ],
   "source": [
    "display(train_data.dtypes)"
   ]
  },
  {
   "cell_type": "code",
   "execution_count": 4,
   "id": "14008629",
   "metadata": {},
   "outputs": [
    {
     "data": {
      "text/html": [
       "<div>\n",
       "<style scoped>\n",
       "    .dataframe tbody tr th:only-of-type {\n",
       "        vertical-align: middle;\n",
       "    }\n",
       "\n",
       "    .dataframe tbody tr th {\n",
       "        vertical-align: top;\n",
       "    }\n",
       "\n",
       "    .dataframe thead th {\n",
       "        text-align: right;\n",
       "    }\n",
       "</style>\n",
       "<table border=\"1\" class=\"dataframe\">\n",
       "  <thead>\n",
       "    <tr style=\"text-align: right;\">\n",
       "      <th></th>\n",
       "      <th>CategoryCode</th>\n",
       "      <th>ItemCode</th>\n",
       "      <th>DateID</th>\n",
       "      <th>DailySales</th>\n",
       "      <th>Week</th>\n",
       "      <th>WeekID</th>\n",
       "      <th>DiscountValue</th>\n",
       "      <th>DiscountedPrice</th>\n",
       "      <th>SellingPrice</th>\n",
       "      <th>OnPromotion</th>\n",
       "    </tr>\n",
       "  </thead>\n",
       "  <tbody>\n",
       "    <tr>\n",
       "      <th>0</th>\n",
       "      <td>category_2</td>\n",
       "      <td>117610</td>\n",
       "      <td>2021-10-01</td>\n",
       "      <td>1</td>\n",
       "      <td>w1</td>\n",
       "      <td>1</td>\n",
       "      <td>NaN</td>\n",
       "      <td>NaN</td>\n",
       "      <td>NaN</td>\n",
       "      <td>0</td>\n",
       "    </tr>\n",
       "    <tr>\n",
       "      <th>1</th>\n",
       "      <td>category_4</td>\n",
       "      <td>245581</td>\n",
       "      <td>2021-10-01</td>\n",
       "      <td>6</td>\n",
       "      <td>w1</td>\n",
       "      <td>1</td>\n",
       "      <td>NaN</td>\n",
       "      <td>NaN</td>\n",
       "      <td>NaN</td>\n",
       "      <td>0</td>\n",
       "    </tr>\n",
       "    <tr>\n",
       "      <th>2</th>\n",
       "      <td>category_2</td>\n",
       "      <td>1090258</td>\n",
       "      <td>2021-10-01</td>\n",
       "      <td>2</td>\n",
       "      <td>w1</td>\n",
       "      <td>1</td>\n",
       "      <td>NaN</td>\n",
       "      <td>NaN</td>\n",
       "      <td>NaN</td>\n",
       "      <td>0</td>\n",
       "    </tr>\n",
       "    <tr>\n",
       "      <th>3</th>\n",
       "      <td>category_2</td>\n",
       "      <td>39436</td>\n",
       "      <td>2021-10-01</td>\n",
       "      <td>60</td>\n",
       "      <td>w1</td>\n",
       "      <td>1</td>\n",
       "      <td>0.25</td>\n",
       "      <td>52.5</td>\n",
       "      <td>70.0</td>\n",
       "      <td>1</td>\n",
       "    </tr>\n",
       "    <tr>\n",
       "      <th>4</th>\n",
       "      <td>category_3</td>\n",
       "      <td>1090024</td>\n",
       "      <td>2021-10-01</td>\n",
       "      <td>4</td>\n",
       "      <td>w1</td>\n",
       "      <td>1</td>\n",
       "      <td>NaN</td>\n",
       "      <td>NaN</td>\n",
       "      <td>NaN</td>\n",
       "      <td>0</td>\n",
       "    </tr>\n",
       "  </tbody>\n",
       "</table>\n",
       "</div>"
      ],
      "text/plain": [
       "  CategoryCode  ItemCode      DateID  DailySales Week  WeekID  DiscountValue  \\\n",
       "0   category_2    117610  2021-10-01           1   w1       1            NaN   \n",
       "1   category_4    245581  2021-10-01           6   w1       1            NaN   \n",
       "2   category_2   1090258  2021-10-01           2   w1       1            NaN   \n",
       "3   category_2     39436  2021-10-01          60   w1       1           0.25   \n",
       "4   category_3   1090024  2021-10-01           4   w1       1            NaN   \n",
       "\n",
       "   DiscountedPrice  SellingPrice  OnPromotion  \n",
       "0              NaN           NaN            0  \n",
       "1              NaN           NaN            0  \n",
       "2              NaN           NaN            0  \n",
       "3             52.5          70.0            1  \n",
       "4              NaN           NaN            0  "
      ]
     },
     "execution_count": 4,
     "metadata": {},
     "output_type": "execute_result"
    }
   ],
   "source": [
    "train_data.head()"
   ]
  },
  {
   "cell_type": "code",
   "execution_count": 19,
   "id": "11c23e86",
   "metadata": {},
   "outputs": [
    {
     "data": {
      "text/html": [
       "<div>\n",
       "<style scoped>\n",
       "    .dataframe tbody tr th:only-of-type {\n",
       "        vertical-align: middle;\n",
       "    }\n",
       "\n",
       "    .dataframe tbody tr th {\n",
       "        vertical-align: top;\n",
       "    }\n",
       "\n",
       "    .dataframe thead th {\n",
       "        text-align: right;\n",
       "    }\n",
       "</style>\n",
       "<table border=\"1\" class=\"dataframe\">\n",
       "  <thead>\n",
       "    <tr style=\"text-align: right;\">\n",
       "      <th></th>\n",
       "      <th>ItemCode</th>\n",
       "      <th>PromotionStartDate</th>\n",
       "      <th>PromotionEndDate</th>\n",
       "      <th>DiscountValue</th>\n",
       "      <th>SellingPrice</th>\n",
       "      <th>DiscountedPrice</th>\n",
       "      <th>WeekID</th>\n",
       "      <th>OnPromotion</th>\n",
       "    </tr>\n",
       "  </thead>\n",
       "  <tbody>\n",
       "    <tr>\n",
       "      <th>0</th>\n",
       "      <td>1066570</td>\n",
       "      <td>2021-10-01</td>\n",
       "      <td>2021-10-07</td>\n",
       "      <td>0.15</td>\n",
       "      <td>45</td>\n",
       "      <td>38.25</td>\n",
       "      <td>1</td>\n",
       "      <td>1</td>\n",
       "    </tr>\n",
       "    <tr>\n",
       "      <th>1</th>\n",
       "      <td>267478</td>\n",
       "      <td>2021-10-01</td>\n",
       "      <td>2021-10-07</td>\n",
       "      <td>0.10</td>\n",
       "      <td>130</td>\n",
       "      <td>117.00</td>\n",
       "      <td>1</td>\n",
       "      <td>1</td>\n",
       "    </tr>\n",
       "    <tr>\n",
       "      <th>2</th>\n",
       "      <td>1006009</td>\n",
       "      <td>2021-10-01</td>\n",
       "      <td>2021-10-07</td>\n",
       "      <td>0.10</td>\n",
       "      <td>70</td>\n",
       "      <td>63.00</td>\n",
       "      <td>1</td>\n",
       "      <td>1</td>\n",
       "    </tr>\n",
       "    <tr>\n",
       "      <th>3</th>\n",
       "      <td>39436</td>\n",
       "      <td>2021-10-01</td>\n",
       "      <td>2021-10-07</td>\n",
       "      <td>0.25</td>\n",
       "      <td>70</td>\n",
       "      <td>52.50</td>\n",
       "      <td>1</td>\n",
       "      <td>1</td>\n",
       "    </tr>\n",
       "    <tr>\n",
       "      <th>4</th>\n",
       "      <td>132334</td>\n",
       "      <td>2021-10-01</td>\n",
       "      <td>2021-10-07</td>\n",
       "      <td>0.10</td>\n",
       "      <td>190</td>\n",
       "      <td>171.00</td>\n",
       "      <td>1</td>\n",
       "      <td>1</td>\n",
       "    </tr>\n",
       "  </tbody>\n",
       "</table>\n",
       "</div>"
      ],
      "text/plain": [
       "   ItemCode PromotionStartDate PromotionEndDate  DiscountValue  SellingPrice  \\\n",
       "0   1066570         2021-10-01       2021-10-07           0.15            45   \n",
       "1    267478         2021-10-01       2021-10-07           0.10           130   \n",
       "2   1006009         2021-10-01       2021-10-07           0.10            70   \n",
       "3     39436         2021-10-01       2021-10-07           0.25            70   \n",
       "4    132334         2021-10-01       2021-10-07           0.10           190   \n",
       "\n",
       "   DiscountedPrice  WeekID  OnPromotion  \n",
       "0            38.25       1            1  \n",
       "1           117.00       1            1  \n",
       "2            63.00       1            1  \n",
       "3            52.50       1            1  \n",
       "4           171.00       1            1  "
      ]
     },
     "execution_count": 19,
     "metadata": {},
     "output_type": "execute_result"
    }
   ],
   "source": [
    "promotion_data=pd.read_csv(\"./data/promotion_data_with_weekId.csv\")\n",
    "promotion_data['OnPromotion']=promotion_data['OnPromotion'].astype(int)\n",
    "promotion_data.head()"
   ]
  },
  {
   "cell_type": "code",
   "execution_count": 20,
   "id": "6a4c0b32",
   "metadata": {},
   "outputs": [
    {
     "name": "stdout",
     "output_type": "stream",
     "text": [
      "<class 'pandas.core.frame.DataFrame'>\n",
      "RangeIndex: 314 entries, 0 to 313\n",
      "Data columns (total 8 columns):\n",
      " #   Column              Non-Null Count  Dtype  \n",
      "---  ------              --------------  -----  \n",
      " 0   ItemCode            314 non-null    int64  \n",
      " 1   PromotionStartDate  314 non-null    object \n",
      " 2   PromotionEndDate    314 non-null    object \n",
      " 3   DiscountValue       314 non-null    float64\n",
      " 4   SellingPrice        314 non-null    int64  \n",
      " 5   DiscountedPrice     314 non-null    float64\n",
      " 6   WeekID              314 non-null    int64  \n",
      " 7   OnPromotion         314 non-null    int32  \n",
      "dtypes: float64(2), int32(1), int64(3), object(2)\n",
      "memory usage: 18.5+ KB\n"
     ]
    }
   ],
   "source": [
    "promotion_data.info()"
   ]
  },
  {
   "cell_type": "code",
   "execution_count": null,
   "id": "3e8c9a6b",
   "metadata": {},
   "outputs": [],
   "source": []
  },
  {
   "cell_type": "code",
   "execution_count": 21,
   "id": "48aac7f6",
   "metadata": {},
   "outputs": [
    {
     "data": {
      "text/plain": [
       "(array([2.0164e+04, 3.4000e+02, 9.9000e+01, 3.6000e+01, 7.0000e+00,\n",
       "        2.0000e+00, 1.0000e+00, 1.0000e+00, 0.0000e+00, 1.0000e+00]),\n",
       " array([  1. ,  44.3,  87.6, 130.9, 174.2, 217.5, 260.8, 304.1, 347.4,\n",
       "        390.7, 434. ]),\n",
       " <BarContainer object of 10 artists>)"
      ]
     },
     "execution_count": 21,
     "metadata": {},
     "output_type": "execute_result"
    },
    {
     "data": {
      "image/png": "[encoded data removed]",
      "text/plain": [
       "<Figure size 1080x720 with 1 Axes>"
      ]
     },
     "metadata": {
      "needs_background": "light"
     },
     "output_type": "display_data"
    }
   ],
   "source": [
    "plt.figure(figsize=(15, 10))\n",
    "plt.xticks(rotation = 90)\n",
    "plt.title(\"Sales\")\n",
    "plt.xlabel(\"Number of Daily Sales\")\n",
    "plt.ylabel(\"Number of Occurences\")\n",
    "plt.hist(train_data['DailySales'])"
   ]
  },
  {
   "cell_type": "code",
   "execution_count": 22,
   "id": "56058772",
   "metadata": {},
   "outputs": [],
   "source": [
    "days_without_promotion = train_data.where(train_data['OnPromotion']==0.0)"
   ]
  },
  {
   "cell_type": "code",
   "execution_count": 23,
   "id": "9c20d6a0",
   "metadata": {},
   "outputs": [
    {
     "data": {
      "text/plain": [
       "(array([1.8614e+04, 2.7500e+02, 8.8000e+01, 3.3000e+01, 7.0000e+00,\n",
       "        2.0000e+00, 1.0000e+00, 1.0000e+00, 0.0000e+00, 1.0000e+00]),\n",
       " array([  1. ,  44.3,  87.6, 130.9, 174.2, 217.5, 260.8, 304.1, 347.4,\n",
       "        390.7, 434. ]),\n",
       " <BarContainer object of 10 artists>)"
      ]
     },
     "execution_count": 23,
     "metadata": {},
     "output_type": "execute_result"
    },
    {
     "data": {
      "image/png": "[encoded data removed]",
      "text/plain": [
       "<Figure size 1080x720 with 1 Axes>"
      ]
     },
     "metadata": {
      "needs_background": "light"
     },
     "output_type": "display_data"
    }
   ],
   "source": [
    "plt.figure(figsize=(15, 10))\n",
    "plt.xticks(rotation = 90)\n",
    "plt.title(\"Sales\")\n",
    "plt.xlabel(\"Number of Daily Sales\")\n",
    "plt.ylabel(\"Number of Occurences\")\n",
    "plt.hist(days_without_promotion['DailySales'])"
   ]
  },
  {
   "cell_type": "code",
   "execution_count": 24,
   "id": "e2a398cc",
   "metadata": {},
   "outputs": [],
   "source": [
    "days_with_promotion = train_data.where(train_data['OnPromotion']==1.0)"
   ]
  },
  {
   "cell_type": "code",
   "execution_count": 85,
   "id": "8c426989",
   "metadata": {},
   "outputs": [
    {
     "data": {
      "text/plain": [
       "(array([1292.,  211.,   66.,   29.,   15.,   11.,    2.,    0.,    0.,\n",
       "           3.]),\n",
       " array([  1. ,  17.7,  34.4,  51.1,  67.8,  84.5, 101.2, 117.9, 134.6,\n",
       "        151.3, 168. ]),\n",
       " <BarContainer object of 10 artists>)"
      ]
     },
     "execution_count": 85,
     "metadata": {},
     "output_type": "execute_result"
    },
    {
     "data": {
      "image/png": "[encoded data removed]",
      "text/plain": [
       "<Figure size 1080x720 with 1 Axes>"
      ]
     },
     "metadata": {
      "needs_background": "light"
     },
     "output_type": "display_data"
    }
   ],
   "source": [
    "plt.figure(figsize=(15, 10))\n",
    "plt.xticks(rotation = 90)\n",
    "plt.title(\"Promotional Sales\")\n",
    "plt.xlabel(\"Number of Daily Sales\")\n",
    "plt.ylabel(\"Number of Occurences\")\n",
    "plt.hist(days_with_promotion['DailySales'])"
   ]
  },
  {
   "cell_type": "code",
   "execution_count": 26,
   "id": "b5bbe225",
   "metadata": {},
   "outputs": [
    {
     "data": {
      "text/plain": [
       "<BarContainer object of 4 artists>"
      ]
     },
     "execution_count": 26,
     "metadata": {},
     "output_type": "execute_result"
    },
    {
     "data": {
      "image/png": "[encoded data removed]",
      "text/plain": [
       "<Figure size 1080x360 with 1 Axes>"
      ]
     },
     "metadata": {
      "needs_background": "light"
     },
     "output_type": "display_data"
    }
   ],
   "source": [
    "X = train_data.groupby(['CategoryCode']).agg({'DailySales':'sum'})\n",
    "X.reset_index(inplace = True)\n",
    "plt.figure(figsize=(15, 5))\n",
    "plt.xticks(rotation = 90)\n",
    "plt.title(\"Sales vs Category\")\n",
    "plt.xlabel(\"Category\")\n",
    "plt.ylabel(\"Total Daily Sales\")\n",
    "plt.bar(X['CategoryCode'],X['DailySales'])"
   ]
  },
  {
   "cell_type": "code",
   "execution_count": 77,
   "id": "60f8bdb9",
   "metadata": {},
   "outputs": [
    {
     "data": {
      "text/plain": [
       "<BarContainer object of 4 artists>"
      ]
     },
     "execution_count": 77,
     "metadata": {},
     "output_type": "execute_result"
    },
    {
     "data": {
      "image/png": "[encoded data removed]",
      "text/plain": [
       "<Figure size 1080x360 with 1 Axes>"
      ]
     },
     "metadata": {
      "needs_background": "light"
     },
     "output_type": "display_data"
    }
   ],
   "source": [
    "X = days_with_promotion.groupby(['CategoryCode']).agg({'DailySales':'sum'})\n",
    "X.reset_index(inplace = True)\n",
    "plt.figure(figsize=(15, 5))\n",
    "plt.xticks(rotation = 90)\n",
    "plt.title(\"Sales vs Category with Promotion\")\n",
    "plt.xlabel(\"Category\")\n",
    "plt.ylabel(\"Total Daily Sales\")\n",
    "plt.bar(X['CategoryCode'],X['DailySales'])"
   ]
  },
  {
   "cell_type": "code",
   "execution_count": 78,
   "id": "105a5d1d",
   "metadata": {},
   "outputs": [
    {
     "data": {
      "text/plain": [
       "<BarContainer object of 4 artists>"
      ]
     },
     "execution_count": 78,
     "metadata": {},
     "output_type": "execute_result"
    },
    {
     "data": {
      "image/png": "[encoded data removed]",
      "text/plain": [
       "<Figure size 1080x360 with 1 Axes>"
      ]
     },
     "metadata": {
      "needs_background": "light"
     },
     "output_type": "display_data"
    }
   ],
   "source": [
    "X = days_without_promotion.groupby(['CategoryCode']).agg({'DailySales':'sum'})\n",
    "X.reset_index(inplace = True)\n",
    "plt.figure(figsize=(15, 5))\n",
    "plt.xticks(rotation = 90)\n",
    "plt.title(\"Sales vs Category Without Promotion\")\n",
    "plt.xlabel(\"Category\")\n",
    "plt.ylabel(\"Total Daily Sales\")\n",
    "plt.bar(X['CategoryCode'],X['DailySales'])"
   ]
  },
  {
   "cell_type": "code",
   "execution_count": 83,
   "id": "b08ba1ce",
   "metadata": {},
   "outputs": [
    {
     "data": {
      "text/plain": [
       "<BarContainer object of 2 artists>"
      ]
     },
     "execution_count": 83,
     "metadata": {},
     "output_type": "execute_result"
    },
    {
     "data": {
      "image/png": "[encoded data removed]",
      "text/plain": [
       "<Figure size 1080x360 with 1 Axes>"
      ]
     },
     "metadata": {
      "needs_background": "light"
     },
     "output_type": "display_data"
    }
   ],
   "source": [
    "X = train_data.groupby(['OnPromotion']).agg({'DailySales':'sum'})\n",
    "Xi = [0,1]\n",
    "X.reset_index(inplace = True)\n",
    "plt.figure(figsize=(15, 5))\n",
    "plt.xticks(Xi,X['OnPromotion'],rotation = 90)\n",
    "plt.title(\"Sales Vs Promotion\")\n",
    "plt.xlabel(\"Promotion\")\n",
    "plt.ylabel(\"Total Daily Sales\")\n",
    "plt.bar(Xi,X['DailySales'])"
   ]
  },
  {
   "cell_type": "code",
   "execution_count": 35,
   "id": "d573acf6",
   "metadata": {},
   "outputs": [
    {
     "data": {
      "text/plain": [
       "<BarContainer object of 23 artists>"
      ]
     },
     "execution_count": 35,
     "metadata": {},
     "output_type": "execute_result"
    },
    {
     "data": {
      "image/png": "[encoded data removed]",
      "text/plain": [
       "<Figure size 1080x360 with 1 Axes>"
      ]
     },
     "metadata": {
      "needs_background": "light"
     },
     "output_type": "display_data"
    }
   ],
   "source": [
    "X = promotion_data.groupby(['WeekID']).agg({'OnPromotion':'sum'})\n",
    "X.reset_index(inplace = True)\n",
    "plt.figure(figsize=(15, 5))\n",
    "plt.xticks(rotation = 90)\n",
    "plt.title(\"Number of Promotions by Week ID\")\n",
    "plt.xlabel(\"Week\")\n",
    "plt.ylabel(\"Number of Promotions\")\n",
    "plt.bar(X['WeekID'],X['OnPromotion'])"
   ]
  },
  {
   "cell_type": "code",
   "execution_count": 65,
   "id": "3c91a79c",
   "metadata": {},
   "outputs": [
    {
     "data": {
      "text/html": [
       "<div>\n",
       "<style scoped>\n",
       "    .dataframe tbody tr th:only-of-type {\n",
       "        vertical-align: middle;\n",
       "    }\n",
       "\n",
       "    .dataframe tbody tr th {\n",
       "        vertical-align: top;\n",
       "    }\n",
       "\n",
       "    .dataframe thead th {\n",
       "        text-align: right;\n",
       "    }\n",
       "</style>\n",
       "<table border=\"1\" class=\"dataframe\">\n",
       "  <thead>\n",
       "    <tr style=\"text-align: right;\">\n",
       "      <th></th>\n",
       "      <th>WeekID</th>\n",
       "      <th>ItemCode</th>\n",
       "      <th>DailySales</th>\n",
       "      <th>OnPromotion</th>\n",
       "    </tr>\n",
       "  </thead>\n",
       "  <tbody>\n",
       "    <tr>\n",
       "      <th>0</th>\n",
       "      <td>1</td>\n",
       "      <td>3418</td>\n",
       "      <td>45</td>\n",
       "      <td>0</td>\n",
       "    </tr>\n",
       "    <tr>\n",
       "      <th>1</th>\n",
       "      <td>1</td>\n",
       "      <td>3427</td>\n",
       "      <td>28</td>\n",
       "      <td>0</td>\n",
       "    </tr>\n",
       "    <tr>\n",
       "      <th>2</th>\n",
       "      <td>1</td>\n",
       "      <td>7666</td>\n",
       "      <td>141</td>\n",
       "      <td>1</td>\n",
       "    </tr>\n",
       "    <tr>\n",
       "      <th>3</th>\n",
       "      <td>1</td>\n",
       "      <td>9925</td>\n",
       "      <td>7</td>\n",
       "      <td>0</td>\n",
       "    </tr>\n",
       "    <tr>\n",
       "      <th>4</th>\n",
       "      <td>1</td>\n",
       "      <td>16936</td>\n",
       "      <td>31</td>\n",
       "      <td>0</td>\n",
       "    </tr>\n",
       "  </tbody>\n",
       "</table>\n",
       "</div>"
      ],
      "text/plain": [
       "   WeekID  ItemCode  DailySales  OnPromotion\n",
       "0       1      3418          45            0\n",
       "1       1      3427          28            0\n",
       "2       1      7666         141            1\n",
       "3       1      9925           7            0\n",
       "4       1     16936          31            0"
      ]
     },
     "execution_count": 65,
     "metadata": {},
     "output_type": "execute_result"
    }
   ],
   "source": [
    "train_data_modified = train_data.groupby(['WeekID','ItemCode']).agg({'DailySales':'sum', 'OnPromotion':'max'}).reset_index()\n",
    "train_data_modified.head()"
   ]
  },
  {
   "cell_type": "code",
   "execution_count": 66,
   "id": "b5a502c3",
   "metadata": {},
   "outputs": [
    {
     "name": "stderr",
     "output_type": "stream",
     "text": [
      "<ipython-input-66-9f250de18c64>:2: FutureWarning: In a future version of pandas all arguments of DataFrame.drop except for the argument 'labels' will be keyword-only\n",
      "  train_data_modified.drop('DailySales',1)\n"
     ]
    },
    {
     "data": {
      "text/html": [
       "<div>\n",
       "<style scoped>\n",
       "    .dataframe tbody tr th:only-of-type {\n",
       "        vertical-align: middle;\n",
       "    }\n",
       "\n",
       "    .dataframe tbody tr th {\n",
       "        vertical-align: top;\n",
       "    }\n",
       "\n",
       "    .dataframe thead th {\n",
       "        text-align: right;\n",
       "    }\n",
       "</style>\n",
       "<table border=\"1\" class=\"dataframe\">\n",
       "  <thead>\n",
       "    <tr style=\"text-align: right;\">\n",
       "      <th></th>\n",
       "      <th>WeekID</th>\n",
       "      <th>ItemCode</th>\n",
       "      <th>OnPromotion</th>\n",
       "      <th>WeeklySales</th>\n",
       "    </tr>\n",
       "  </thead>\n",
       "  <tbody>\n",
       "    <tr>\n",
       "      <th>0</th>\n",
       "      <td>1</td>\n",
       "      <td>3418</td>\n",
       "      <td>0</td>\n",
       "      <td>45</td>\n",
       "    </tr>\n",
       "    <tr>\n",
       "      <th>1</th>\n",
       "      <td>1</td>\n",
       "      <td>3427</td>\n",
       "      <td>0</td>\n",
       "      <td>28</td>\n",
       "    </tr>\n",
       "    <tr>\n",
       "      <th>2</th>\n",
       "      <td>1</td>\n",
       "      <td>7666</td>\n",
       "      <td>1</td>\n",
       "      <td>141</td>\n",
       "    </tr>\n",
       "    <tr>\n",
       "      <th>3</th>\n",
       "      <td>1</td>\n",
       "      <td>9925</td>\n",
       "      <td>0</td>\n",
       "      <td>7</td>\n",
       "    </tr>\n",
       "    <tr>\n",
       "      <th>4</th>\n",
       "      <td>1</td>\n",
       "      <td>16936</td>\n",
       "      <td>0</td>\n",
       "      <td>31</td>\n",
       "    </tr>\n",
       "    <tr>\n",
       "      <th>...</th>\n",
       "      <td>...</td>\n",
       "      <td>...</td>\n",
       "      <td>...</td>\n",
       "      <td>...</td>\n",
       "    </tr>\n",
       "    <tr>\n",
       "      <th>3828</th>\n",
       "      <td>20</td>\n",
       "      <td>1101769</td>\n",
       "      <td>0</td>\n",
       "      <td>35</td>\n",
       "    </tr>\n",
       "    <tr>\n",
       "      <th>3829</th>\n",
       "      <td>20</td>\n",
       "      <td>1103056</td>\n",
       "      <td>0</td>\n",
       "      <td>10</td>\n",
       "    </tr>\n",
       "    <tr>\n",
       "      <th>3830</th>\n",
       "      <td>20</td>\n",
       "      <td>1105009</td>\n",
       "      <td>0</td>\n",
       "      <td>9</td>\n",
       "    </tr>\n",
       "    <tr>\n",
       "      <th>3831</th>\n",
       "      <td>20</td>\n",
       "      <td>1105018</td>\n",
       "      <td>0</td>\n",
       "      <td>4</td>\n",
       "    </tr>\n",
       "    <tr>\n",
       "      <th>3832</th>\n",
       "      <td>20</td>\n",
       "      <td>1105027</td>\n",
       "      <td>0</td>\n",
       "      <td>13</td>\n",
       "    </tr>\n",
       "  </tbody>\n",
       "</table>\n",
       "<p>3833 rows × 4 columns</p>\n",
       "</div>"
      ],
      "text/plain": [
       "      WeekID  ItemCode  OnPromotion  WeeklySales\n",
       "0          1      3418            0           45\n",
       "1          1      3427            0           28\n",
       "2          1      7666            1          141\n",
       "3          1      9925            0            7\n",
       "4          1     16936            0           31\n",
       "...      ...       ...          ...          ...\n",
       "3828      20   1101769            0           35\n",
       "3829      20   1103056            0           10\n",
       "3830      20   1105009            0            9\n",
       "3831      20   1105018            0            4\n",
       "3832      20   1105027            0           13\n",
       "\n",
       "[3833 rows x 4 columns]"
      ]
     },
     "execution_count": 66,
     "metadata": {},
     "output_type": "execute_result"
    }
   ],
   "source": [
    "train_data_modified['WeeklySales']=train_data_modified['DailySales']\n",
    "train_data_modified.drop('DailySales',1)"
   ]
  },
  {
   "cell_type": "code",
   "execution_count": 67,
   "id": "74aebf88",
   "metadata": {},
   "outputs": [
    {
     "data": {
      "text/html": [
       "<div>\n",
       "<style scoped>\n",
       "    .dataframe tbody tr th:only-of-type {\n",
       "        vertical-align: middle;\n",
       "    }\n",
       "\n",
       "    .dataframe tbody tr th {\n",
       "        vertical-align: top;\n",
       "    }\n",
       "\n",
       "    .dataframe thead th {\n",
       "        text-align: right;\n",
       "    }\n",
       "</style>\n",
       "<table border=\"1\" class=\"dataframe\">\n",
       "  <thead>\n",
       "    <tr style=\"text-align: right;\">\n",
       "      <th></th>\n",
       "      <th>WeekID</th>\n",
       "      <th>ItemCode</th>\n",
       "      <th>DailySales</th>\n",
       "      <th>OnPromotion</th>\n",
       "      <th>WeeklySales</th>\n",
       "      <th>Last_Week_Sales</th>\n",
       "    </tr>\n",
       "  </thead>\n",
       "  <tbody>\n",
       "    <tr>\n",
       "      <th>0</th>\n",
       "      <td>1</td>\n",
       "      <td>3418</td>\n",
       "      <td>45</td>\n",
       "      <td>0</td>\n",
       "      <td>45</td>\n",
       "      <td>0.0</td>\n",
       "    </tr>\n",
       "    <tr>\n",
       "      <th>1</th>\n",
       "      <td>1</td>\n",
       "      <td>3427</td>\n",
       "      <td>28</td>\n",
       "      <td>0</td>\n",
       "      <td>28</td>\n",
       "      <td>0.0</td>\n",
       "    </tr>\n",
       "    <tr>\n",
       "      <th>2</th>\n",
       "      <td>1</td>\n",
       "      <td>7666</td>\n",
       "      <td>141</td>\n",
       "      <td>1</td>\n",
       "      <td>141</td>\n",
       "      <td>0.0</td>\n",
       "    </tr>\n",
       "    <tr>\n",
       "      <th>3</th>\n",
       "      <td>1</td>\n",
       "      <td>9925</td>\n",
       "      <td>7</td>\n",
       "      <td>0</td>\n",
       "      <td>7</td>\n",
       "      <td>0.0</td>\n",
       "    </tr>\n",
       "    <tr>\n",
       "      <th>4</th>\n",
       "      <td>1</td>\n",
       "      <td>16936</td>\n",
       "      <td>31</td>\n",
       "      <td>0</td>\n",
       "      <td>31</td>\n",
       "      <td>0.0</td>\n",
       "    </tr>\n",
       "  </tbody>\n",
       "</table>\n",
       "</div>"
      ],
      "text/plain": [
       "   WeekID  ItemCode  DailySales  OnPromotion  WeeklySales  Last_Week_Sales\n",
       "0       1      3418          45            0           45              0.0\n",
       "1       1      3427          28            0           28              0.0\n",
       "2       1      7666         141            1          141              0.0\n",
       "3       1      9925           7            0            7              0.0\n",
       "4       1     16936          31            0           31              0.0"
      ]
     },
     "execution_count": 67,
     "metadata": {},
     "output_type": "execute_result"
    }
   ],
   "source": [
    "train_data_modified['Last_Week_Sales'] = train_data_modified.groupby(['ItemCode'])['WeeklySales'].shift(1)\n",
    "train_data_modified['Last_Week_Sales'] = train_data_modified['Last_Week_Sales'].fillna(0)\n",
    "train_data_modified.head()"
   ]
  },
  {
   "cell_type": "code",
   "execution_count": 75,
   "id": "c76825b4",
   "metadata": {},
   "outputs": [
    {
     "data": {
      "text/html": [
       "<div>\n",
       "<style scoped>\n",
       "    .dataframe tbody tr th:only-of-type {\n",
       "        vertical-align: middle;\n",
       "    }\n",
       "\n",
       "    .dataframe tbody tr th {\n",
       "        vertical-align: top;\n",
       "    }\n",
       "\n",
       "    .dataframe thead th {\n",
       "        text-align: right;\n",
       "    }\n",
       "</style>\n",
       "<table border=\"1\" class=\"dataframe\">\n",
       "  <thead>\n",
       "    <tr style=\"text-align: right;\">\n",
       "      <th></th>\n",
       "      <th>WeekID</th>\n",
       "      <th>ItemCode</th>\n",
       "      <th>DailySales</th>\n",
       "      <th>OnPromotion</th>\n",
       "      <th>WeeklySales</th>\n",
       "      <th>Last_Week_Sales</th>\n",
       "    </tr>\n",
       "  </thead>\n",
       "  <tbody>\n",
       "    <tr>\n",
       "      <th>2</th>\n",
       "      <td>1.0</td>\n",
       "      <td>7666.0</td>\n",
       "      <td>141.0</td>\n",
       "      <td>1.0</td>\n",
       "      <td>141.0</td>\n",
       "      <td>0.0</td>\n",
       "    </tr>\n",
       "    <tr>\n",
       "      <th>10</th>\n",
       "      <td>1.0</td>\n",
       "      <td>24136.0</td>\n",
       "      <td>39.0</td>\n",
       "      <td>1.0</td>\n",
       "      <td>39.0</td>\n",
       "      <td>0.0</td>\n",
       "    </tr>\n",
       "    <tr>\n",
       "      <th>14</th>\n",
       "      <td>1.0</td>\n",
       "      <td>35530.0</td>\n",
       "      <td>14.0</td>\n",
       "      <td>1.0</td>\n",
       "      <td>14.0</td>\n",
       "      <td>0.0</td>\n",
       "    </tr>\n",
       "    <tr>\n",
       "      <th>20</th>\n",
       "      <td>1.0</td>\n",
       "      <td>39436.0</td>\n",
       "      <td>239.0</td>\n",
       "      <td>1.0</td>\n",
       "      <td>239.0</td>\n",
       "      <td>0.0</td>\n",
       "    </tr>\n",
       "    <tr>\n",
       "      <th>35</th>\n",
       "      <td>1.0</td>\n",
       "      <td>65788.0</td>\n",
       "      <td>50.0</td>\n",
       "      <td>1.0</td>\n",
       "      <td>50.0</td>\n",
       "      <td>0.0</td>\n",
       "    </tr>\n",
       "    <tr>\n",
       "      <th>...</th>\n",
       "      <td>...</td>\n",
       "      <td>...</td>\n",
       "      <td>...</td>\n",
       "      <td>...</td>\n",
       "      <td>...</td>\n",
       "      <td>...</td>\n",
       "    </tr>\n",
       "    <tr>\n",
       "      <th>3803</th>\n",
       "      <td>20.0</td>\n",
       "      <td>1077118.0</td>\n",
       "      <td>40.0</td>\n",
       "      <td>1.0</td>\n",
       "      <td>40.0</td>\n",
       "      <td>31.0</td>\n",
       "    </tr>\n",
       "    <tr>\n",
       "      <th>3810</th>\n",
       "      <td>20.0</td>\n",
       "      <td>1082743.0</td>\n",
       "      <td>25.0</td>\n",
       "      <td>1.0</td>\n",
       "      <td>25.0</td>\n",
       "      <td>58.0</td>\n",
       "    </tr>\n",
       "    <tr>\n",
       "      <th>3812</th>\n",
       "      <td>20.0</td>\n",
       "      <td>1085749.0</td>\n",
       "      <td>10.0</td>\n",
       "      <td>1.0</td>\n",
       "      <td>10.0</td>\n",
       "      <td>18.0</td>\n",
       "    </tr>\n",
       "    <tr>\n",
       "      <th>3813</th>\n",
       "      <td>20.0</td>\n",
       "      <td>1090024.0</td>\n",
       "      <td>74.0</td>\n",
       "      <td>1.0</td>\n",
       "      <td>74.0</td>\n",
       "      <td>54.0</td>\n",
       "    </tr>\n",
       "    <tr>\n",
       "      <th>3826</th>\n",
       "      <td>20.0</td>\n",
       "      <td>1101571.0</td>\n",
       "      <td>29.0</td>\n",
       "      <td>1.0</td>\n",
       "      <td>29.0</td>\n",
       "      <td>2.0</td>\n",
       "    </tr>\n",
       "  </tbody>\n",
       "</table>\n",
       "<p>268 rows × 6 columns</p>\n",
       "</div>"
      ],
      "text/plain": [
       "      WeekID   ItemCode  DailySales  OnPromotion  WeeklySales  Last_Week_Sales\n",
       "2        1.0     7666.0       141.0          1.0        141.0              0.0\n",
       "10       1.0    24136.0        39.0          1.0         39.0              0.0\n",
       "14       1.0    35530.0        14.0          1.0         14.0              0.0\n",
       "20       1.0    39436.0       239.0          1.0        239.0              0.0\n",
       "35       1.0    65788.0        50.0          1.0         50.0              0.0\n",
       "...      ...        ...         ...          ...          ...              ...\n",
       "3803    20.0  1077118.0        40.0          1.0         40.0             31.0\n",
       "3810    20.0  1082743.0        25.0          1.0         25.0             58.0\n",
       "3812    20.0  1085749.0        10.0          1.0         10.0             18.0\n",
       "3813    20.0  1090024.0        74.0          1.0         74.0             54.0\n",
       "3826    20.0  1101571.0        29.0          1.0         29.0              2.0\n",
       "\n",
       "[268 rows x 6 columns]"
      ]
     },
     "execution_count": 75,
     "metadata": {},
     "output_type": "execute_result"
    }
   ],
   "source": [
    "train_data_promotion = train_data_modified.where(train_data_modified['OnPromotion']==1.0)\n",
    "train_data_promotion.dropna()"
   ]
  },
  {
   "cell_type": "code",
   "execution_count": 76,
   "id": "c22abbb9",
   "metadata": {},
   "outputs": [
    {
     "data": {
      "text/plain": [
       "<matplotlib.collections.PathCollection at 0x2a38b6b3220>"
      ]
     },
     "execution_count": 76,
     "metadata": {},
     "output_type": "execute_result"
    },
    {
     "data": {
      "image/png": "[encoded data removed]",
      "text/plain": [
       "<Figure size 1080x504 with 1 Axes>"
      ]
     },
     "metadata": {
      "needs_background": "light"
     },
     "output_type": "display_data"
    }
   ],
   "source": [
    "plt.figure(figsize=(15, 7))\n",
    "plt.xticks(rotation = 90)\n",
    "plt.title(\"Sales vs Different with Last week's Sales\")\n",
    "plt.ylabel(\"Last week's Sales\")\n",
    "plt.xlabel(\"Current Week Sales(With Promotion)\")\n",
    "plt.scatter(train_data_promotion['WeeklySales'],train_data_promotion['Last_Week_Sales'])"
   ]
  },
  {
   "cell_type": "code",
   "execution_count": null,
   "id": "969507e5",
   "metadata": {},
   "outputs": [],
   "source": []
  }
 ],
 "metadata": {
  "kernelspec": {
   "display_name": "Python 3",
   "language": "python",
   "name": "python3"
  },
  "language_info": {
   "codemirror_mode": {
    "name": "ipython",
    "version": 3
   },
   "file_extension": ".py",
   "mimetype": "text/x-python",
   "name": "python",
   "nbconvert_exporter": "python",
   "pygments_lexer": "ipython3",
   "version": "3.8.10"
  }
 },
 "nbformat": 4,
 "nbformat_minor": 5
}
